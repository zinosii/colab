{
  "nbformat": 4,
  "nbformat_minor": 0,
  "metadata": {
    "colab": {
      "provenance": [],
      "collapsed_sections": [
        "fA_VqCpJh9N3",
        "BbIg-rahifei",
        "rcVsaA9OiqJ3",
        "30TLjGyOjUCC",
        "S-DObcJv0JJK",
        "y9mp-kVW6Mkd",
        "r8D6rOeU7B8S"
      ],
      "authorship_tag": "ABX9TyP9RJNeDuRCFLzeTj8xCCAp",
      "include_colab_link": true
    },
    "kernelspec": {
      "name": "python3",
      "display_name": "Python 3"
    },
    "language_info": {
      "name": "python"
    }
  },
  "cells": [
    {
      "cell_type": "markdown",
      "metadata": {
        "id": "view-in-github",
        "colab_type": "text"
      },
      "source": [
        "<a href=\"https://colab.research.google.com/github/zinosii/colab/blob/main/Untitled0.ipynb\" target=\"_parent\"><img src=\"https://colab.research.google.com/assets/colab-badge.svg\" alt=\"Open In Colab\"/></a>"
      ]
    },
    {
      "cell_type": "markdown",
      "source": [
        "딥러닝 정리!"
      ],
      "metadata": {
        "id": "xh3db_FVh6Uf"
      }
    },
    {
      "cell_type": "markdown",
      "source": [
        "#1주차"
      ],
      "metadata": {
        "id": "fA_VqCpJh9N3"
      }
    },
    {
      "cell_type": "markdown",
      "source": [
        "**Problem 1**\n",
        "\n",
        "#### Infinite Products\n",
        "\n",
        "The cosine function has the following infinite product representation\n",
        "\n",
        "$$\n",
        "\\cos x = \\prod_{k = 1}^{\\infty} \\left(1 - \\frac{4 x^2}{\\pi^2 (2k - 1)^2} \\right)\n",
        "$$\n",
        "\n",
        "Write a function called `cos_product` which takes input parameters $x$ and $N$ and returns the $N$th partial product\n",
        "\n",
        "$$\n",
        "\\prod_{k = 1}^{N} \\left(1 - \\frac{4 x^2}{\\pi^2 (2k - 1)^2} \\right)\n",
        "$$"
      ],
      "metadata": {
        "id": "BbIg-rahifei"
      }
    },
    {
      "cell_type": "code",
      "execution_count": null,
      "metadata": {
        "id": "9eGqsE5Ih5O5"
      },
      "outputs": [],
      "source": [
        "import numpy as np\n",
        "import matplotlib.pyplot as plt\n",
        "\n",
        "def cos_product(x,N):\n",
        "    k = np.arange(1,N+1)\n",
        "    terms = 1 - 4*x**2 / (np.pi**2 * (2*k - 1)**2)\n",
        "    return np.prod(terms)"
      ]
    },
    {
      "cell_type": "markdown",
      "source": [
        "**Problem 2**\n",
        "\n",
        "\n",
        "#### Heart Curve\n",
        "\n",
        "Plot the heart curve:\n",
        "\n",
        "\\begin{align}\n",
        "x &= 16 \\sin^3(t) \\\\\\\n",
        "y &= 13 \\cos(t) - 5 \\cos(2t) - 2 \\cos(3t) - \\cos(4t)\n",
        "\\end{align}\n",
        "\n",
        "for $t \\in [0,2\\pi]$."
      ],
      "metadata": {
        "id": "rcVsaA9OiqJ3"
      }
    },
    {
      "cell_type": "code",
      "source": [
        "import matplotlib.pyplot as plt\n",
        "t = np.linspace(0,2*np.pi)\n",
        "\n",
        "x = 16*np.sin(t)**3\n",
        "y = 13*np.cos(t) - 5*np.cos(2*t) - 2*np.cos(3*t) - np.cos(4*t)\n",
        "\n",
        "# Plot line with RGB tuple (red=1, green=0.2, blue=0.5)\n",
        "# and 20pt line width\n",
        "plt.plot(x,y,c=(1,0.2,0.5),lw=15)\n",
        "#plt.axis('off')\n",
        "\n",
        "plt.show()"
      ],
      "metadata": {
        "id": "Uf4c83eFirMk"
      },
      "execution_count": null,
      "outputs": []
    },
    {
      "cell_type": "markdown",
      "source": [
        "**Problem 3**: \n",
        "#### Using the given Python function for computing \n",
        "\n",
        "$$\n",
        "\\cos(x) \\approx T_{2n}(x) = \\sum_{j=0}^{n} (-1)^{j}\\frac{x^{2j}}{(2j)!}\n",
        "$$\n",
        "\n",
        "produce a plot which compares the various Taylor series approximations for $n=1, 2, 3, 4$ over the interval $[-1,3]$.  Describe over which intervals each $T_{2n}(x)$ appears to be a valid approximation and at what point you would describe the approximation as breaking down.  Yes, this is slightly subjective, but it is meant to make you think for a bit.   \n",
        "\n",
        "Use the provided code below as a skeleton with which to produce your plot.  Refer to the notes for help in completing this problem.    "
      ],
      "metadata": {
        "id": "v35a_3kPiuTg"
      }
    },
    {
      "cell_type": "code",
      "source": [
        "def tn_approx(x,n):\n",
        "    tot = 1.\n",
        "    term = 1.\n",
        "    for jj in range(1,n+1):\n",
        "        term *= -x**2./((2*jj)*(2*jj-1))\n",
        "        tot += term\n",
        "    return tot"
      ],
      "metadata": {
        "id": "2bY4ajg-iwl4"
      },
      "execution_count": null,
      "outputs": []
    },
    {
      "cell_type": "code",
      "source": [
        "xvals = np.linspace(-1.,3.,30000)\n",
        "\n",
        "ex_vals = np.cos(xvals)\n",
        "\n",
        "t1_app = [tn_approx(xval,1) for xval in xvals]\n",
        "t2_app = [tn_approx(xval,2) for xval in xvals]\n",
        "t3_app = [tn_approx(xval,3) for xval in xvals]\n",
        "t4_app = [tn_approx(xval,4) for xval in xvals]\n",
        "\n",
        "fig = plt.figure()\n",
        "plt.plot(xvals, ex_vals, ls='-', color='C1', label=\"$\\cos(x)$\")\n",
        "plt.plot(xvals, t1_app, ls='--', color='C2', label=\"$T_2(x)$\")\n",
        "plt.plot(xvals, t2_app, ls='--', color='C3', label= \"$T_4(x)$\")\n",
        "plt.plot(xvals, t3_app, ls='--', color='C4', label= \"$T_6(x)$\")\n",
        "plt.plot(xvals, t4_app, ls='--', color='C5', label=\"$T_8(x)$\")\n",
        "\n",
        "plt.legend(loc=(\"best\"))\n",
        "\n",
        "plt.xlim(-1,3)\n",
        "plt.ylim(-1.5,1.5)\n",
        "\n",
        "plt.xlabel('$x$')\n",
        "fig=plt.gcf() # get current figure\n",
        "fig.set_size_inches(9,7) # optional size"
      ],
      "metadata": {
        "id": "wsWehEcZi1qT"
      },
      "execution_count": null,
      "outputs": []
    },
    {
      "cell_type": "markdown",
      "source": [
        "# 2주차"
      ],
      "metadata": {
        "id": "30TLjGyOjUCC"
      }
    },
    {
      "cell_type": "markdown",
      "source": [
        "## Algorithm\n",
        "\n",
        "The bisection method procedure is:\n",
        "\n",
        "1. Choose a starting interval $[a_0,b_0]$ such that $f(a_0)f(b_0) < 0$.\n",
        "2. Compute $f(m_0)$ where $m_0 = (a_0+b_0)/2$ is the midpoint.\n",
        "3. Determine the next subinterval $[a_1,b_1]$:\n",
        "    1. If $f(a_0)f(m_0) < 0$, then let $[a_1,b_1]$ be the next interval with $a_1=a_0$ and $b_1=m_0$.\n",
        "    2. If $f(b_0)f(m_0) < 0$, then let $[a_1,b_1]$ be the next interval with $a_1=m_0$ and $b_1=b_0$.\n",
        "4. Repeat (2) and (3) until the interval $[a_N,b_N]$ reaches some predetermined length.\n",
        "5. Return the midpoint value $m_N=(a_N+b_N)/2$."
      ],
      "metadata": {
        "id": "5qwJ6Sh5jXuP"
      }
    },
    {
      "cell_type": "markdown",
      "source": [
        "## Absolute Error\n",
        "\n",
        "---\n",
        "\n",
        "**Theorem**. Let $f(x)$ be a continuous function on $[a,b]$ such that $f(a)f(b) < 0$. After $N$ iterations of the biection method, let $x_N$ be the midpoint in the $N$th subinterval $[a_N,b_N]$\n",
        "\n",
        "$$\n",
        "x_N = \\frac{a_N + b_N}{2}\n",
        "$$\n",
        "\n",
        "There exists an exact solution $x_{\\mathrm{true}}$ of the equation $f(x)=0$ in the subinterval $[a_N,b_N]$ and the absolute error is\n",
        "\n",
        "$$\n",
        "\\left| \\ x_{\\text{true}} - x_N \\, \\right| \\leq \\frac{b-a}{2^{N+1}}\n",
        "$$\n",
        "\n",
        "---\n",
        "\n",
        "Note that we can rearrange the error bound to see the minimum number of iterations required to guarantee absolute error less than a prescribed $\\epsilon$:\n",
        "\n",
        "\\begin{align}\n",
        "\\frac{b-a}{2^{N+1}} & < \\epsilon \\\\\\\n",
        "\\frac{b-a}{\\epsilon} & < 2^{N+1} \\\\\\\n",
        "\\ln \\left( \\frac{b-a}{\\epsilon} \\right) & < (N+1)\\ln(2) \\\\\\\n",
        "\\frac{\\ln \\left( \\frac{b-a}{\\epsilon} \\right)}{\\ln(2)} - 1 & < N\n",
        "\\end{align}"
      ],
      "metadata": {
        "id": "CGSijOuYj6cE"
      }
    },
    {
      "cell_type": "markdown",
      "source": [
        "## Implementation\n",
        "\n",
        "Write a function called `bisection` which takes 4 input parameters `f`, `a`, `b` and `N` and returns the approximation of a solution of $f(x)=0$ given by $N$ iterations of the bisection method. If $f(a_n)f(b_n) \\geq 0$ at any point in the iteration (caused either by a bad initial interval or rounding error in computations), then print `\"Bisection method fails.\"` and return `None`."
      ],
      "metadata": {
        "id": "sSiZEc3Nj_5D"
      }
    },
    {
      "cell_type": "markdown",
      "source": [
        "## Question:\n",
        "\n",
        "\n",
        "Let $f(x)=e^x - 2$ and $N=25$ iterations on $[0,1]$ to approximate zeros\n",
        "\n",
        "The absolute error is guaranteed to be less than $(2 - 1)/(2^{26})$ which is:\n",
        "\n",
        "Let's verify the absolute error is then than this error bound:"
      ],
      "metadata": {
        "id": "_8BFBWUFkHPl"
      }
    },
    {
      "cell_type": "code",
      "source": [
        "import numpy as np\n",
        "import matplotlib.pyplot as plt\n",
        "\n",
        "f=lambda x : np.exp(x)-2\n",
        "\n",
        "def bisection(a,b,N):\n",
        "  if f(a)*f(b)>=0:\n",
        "    print(\"bisection method fails\")\n",
        "    return\n",
        "  a_n=a\n",
        "  b_n=b\n",
        "  for n in range(1,N+1):\n",
        "    m_n=(a_n+b_n)/2\n",
        "    f_m_n=f(m_n)\n",
        "    if f(a_n)*f_m_n<0:\n",
        "      a_n=a_n\n",
        "      b_n=m_n\n",
        "    elif f(b_n)*f_m_n<0:\n",
        "      a_n=m_n\n",
        "      b_n=b_n \n",
        "    elif f_m_n==0:\n",
        "      print(\"found exact solution\")\n",
        "      return m_n\n",
        "    else:\n",
        "      print(\"bisection method fails\")\n",
        "      return\n",
        "  return (a_n+b_n)/2\n",
        "\n",
        "approx=bisection(0,1,25)\n",
        "print(approx)\n",
        "exact=np.log(2)\n",
        "\n",
        "print(abs(approx-exact)<1/(2**26)) \n",
        "\n"
      ],
      "metadata": {
        "id": "lEl59AE4kT5A"
      },
      "execution_count": null,
      "outputs": []
    },
    {
      "cell_type": "markdown",
      "source": [
        "## Newton's Method\n",
        "\n",
        "Let $f(x)$ be a differentiable function. If $x_0$ is near a solution of $f(x)=0$ then we can approximate $f(x)$ by the tangent line at $x_0$ and compute the $x$-intercept of the tangent line. The equation of the tangent line at $x_0$ is\n",
        "\n",
        "$$\n",
        "y = f'(x_0)(x - x_0) + f(x_0)\n",
        "$$\n",
        "\n",
        "The $x$-intercept is the solution $x_1$ of the equation\n",
        "\n",
        "$$\n",
        "0 = f'(x_0)(x_1 - x_0) + f(x_0)\n",
        "$$\n",
        "\n",
        "and we solve for $x_1$\n",
        "\n",
        "$$\n",
        "x_1 = x_0 - \\frac{f(x_0)}{f'(x_0)}\n",
        "$$\n",
        "\n",
        "If we implement this procedure repeatedly, then we obtain a sequence given by the recursive formula\n",
        "\n",
        "$$\n",
        "x_{n+1} = x_n - \\frac{f(x_n)}{f'(x_n)}\n",
        "$$\n",
        "\n",
        "which (potentially) converges to a solution of the equation $f(x)=0$."
      ],
      "metadata": {
        "id": "f50jaDbxkmQx"
      }
    },
    {
      "cell_type": "markdown",
      "source": [
        "## Implementation\n",
        "\n",
        "Let's write a function called `newton` which takes 5 input parameters `f`, `Df`, `x0`, `epsilon` and `max_iter` and returns an approximation of a solution of $f(x)=0$ by Newton's method. The function may terminate in 3 ways:\n",
        "\n",
        "1. If `abs(f(xn)) < epsilon`, the algorithm has found an approximate solution and returns `xn`.\n",
        "2. If `f'(xn) == 0`, the algorithm stops and returns `None`.\n",
        "3. If the number of iterations exceed `max_iter`, the algorithm stops and returns `None`."
      ],
      "metadata": {
        "id": "GDfofPH6lOIA"
      }
    },
    {
      "cell_type": "markdown",
      "source": [
        "## Problem\n",
        "\n",
        "Let $p(x) = x^3 - x - 1$. The only real root of $p(x)$ is called the [plastic number](https://en.wikipedia.org/wiki/Plastic_number) and is given by\n",
        "\n",
        "$$\n",
        "\\frac{\\sqrt[3]{108 + 12\\sqrt{69}} + \\sqrt[3]{108 - 12\\sqrt{69}}}{6}\n",
        "$$\n",
        "\n",
        "(1) Choose $x_0 = 1$ and implement 4 iterations of Newton's method to approximate the plastic number.\n",
        "\n",
        "(2) Use the exact value above to compute the absolute error after 4 iterations of Newton's method.\n",
        "\n",
        "(3) Starting with the subinterval $[1,2]$, how many iterations of the bisection method is required to achieve the same accuracy?"
      ],
      "metadata": {
        "id": "qlXCsh-3lPoV"
      }
    },
    {
      "cell_type": "code",
      "source": [
        "import numpy as np\n",
        "import matplotlib.pyplot as plt\n",
        "\n",
        "f=lambda x : x**3-x-1\n",
        "Df=lambda x : 3*x**2-1\n",
        "\n",
        "def newton(f,Df,x0,epsilon,max_iter):\n",
        "  xn=x0\n",
        "  for n in range(0,max_iter):\n",
        "    fxn=f(xn)\n",
        "    if abs(fxn)<epsilon:\n",
        "      print('found',n)\n",
        "      return xn\n",
        "    Dfxn=Df(xn)\n",
        "    if Dfxn==0:\n",
        "      print('zero derivative')\n",
        "      return\n",
        "    xn=xn-fxn/Dfxn\n",
        "  print('exceed')\n",
        "  return xn\n",
        "\n",
        "iter4=newton(f,Df,1,1e-10,4)\n",
        "print(iter4)\n",
        "exact = ((108+12*69**0.5)**(1/3)+(108-12*69**0.5)**(1/3))/6\n",
        "\n",
        "print(iter4-exact)"
      ],
      "metadata": {
        "id": "Rz1keM3mlRwA"
      },
      "execution_count": null,
      "outputs": []
    },
    {
      "cell_type": "code",
      "source": [
        "import numpy as np\n",
        "import matplotlib.pyplot as plt\n",
        "\n",
        "f=lambda x : x**3-x-1\n",
        "exact=((108+12*69**0.5)**(1/3)+(108-12*69**0.5)**(1/3))/6\n",
        "\n",
        "def bisection(a,b,N):\n",
        "  if f(a)*f(b)>=0:\n",
        "    print(\"bisection method fails\")\n",
        "    return\n",
        "  a_n=a\n",
        "  b_n=b\n",
        "  ITER=0\n",
        "  flag=1\n",
        "  for n in range(1,N+1):\n",
        "    ITER+=1\n",
        "    m_n=(a_n+b_n)/2\n",
        "    f_m_n=f(m_n)\n",
        "\n",
        "    if flag and (abs(m_n-exact)<2.1675430783574257e-07):\n",
        "      print(ITER,'is enough')\n",
        "      flag=0\n",
        "      \n",
        "    if f(a_n)*f_m_n<0:\n",
        "      a_n=a_n\n",
        "      b_n=m_n\n",
        "    elif f(b_n)*f_m_n<0:\n",
        "      a_n=m_n\n",
        "      b_n=b_n \n",
        "    elif f_m_n==0:\n",
        "      print(\"found exact solution\")\n",
        "      return m_n\n",
        "    else:\n",
        "      print(\"bisection method fails\")\n",
        "      return\n",
        "  return (a_n+b_n)/2\n",
        "\n",
        "approx=bisection(1,2,25)\n",
        "\n",
        "print(approx)\n",
        "print(abs(approx-exact)) \n",
        "\n"
      ],
      "metadata": {
        "id": "Aa0T4CmFlpeN"
      },
      "execution_count": null,
      "outputs": []
    },
    {
      "cell_type": "markdown",
      "source": [
        "# 3주차"
      ],
      "metadata": {
        "id": "9RFZnFSTl3lE"
      }
    },
    {
      "cell_type": "markdown",
      "source": [
        "---\n",
        "\n",
        "**Theorem.** Let $T_N(f)$ denote the trapezoid rule\n",
        "\n",
        "$$\n",
        "T_N(f) = \\frac{\\Delta x}{2} \\sum_{i=1}^N (f(x_i) + f(x_{i-1}))\n",
        "$$\n",
        "\n",
        "where $\\Delta x = (b-a)/N$ and $x_i = a + i \\Delta x$. The error bound is\n",
        "\n",
        "$$\n",
        "E_N^T(f) = \\left| \\ \\int_a^b f(x) \\ dx - T_N(f) \\ \\right| \\leq \\frac{(b-a)^3}{12 N^2} K_2\n",
        "$$\n",
        "\n",
        "where $\\left| \\ f''(x) \\, \\right| \\leq K_2$ for all $x \\in [a,b]$.\n",
        "\n",
        "---"
      ],
      "metadata": {
        "id": "3ydNmScHl_53"
      }
    },
    {
      "cell_type": "markdown",
      "source": [
        "## Exercises\n",
        "\n",
        "**Exercise 1.** Let $f(x) = x^x$ and note that\n",
        "\n",
        "Plot the function $f''(x)$ and use that information to compute $T_N(f)$ for the integral\n",
        "\n",
        "$$\n",
        "\\int_1^2 x^x \\, dx\n",
        "$$\n",
        "\n",
        "such that $E_N^T(f) \\leq 10^{-3}$. What is the actual smallest $N$ such that the trapezoid rule gives the estimate of $x^x$ to within $10^{-8}$?\n",
        "\n",
        "**Exercise 2.** Consider the integral\n",
        "\n",
        "$$\n",
        "\\int_0^1 \\ln(1+x^2) \\, dx\n",
        "$$\n",
        "\n",
        "\n",
        "Without plotting the functions $f(x)$, $f'(x)$, $f''(x)$ or $f'''(x)$, find a value $N$ such that $E_N^T(f) \\leq 10^{-6}$.\n",
        "\n",
        "**Exercise 3.**: A particle of mass $m$ moving through a fluid is subjected to viscous resistance $R(v)$, where $v$ is the particle's velocity.  Suppose that relationship between the resistance $R$, velocity $v$, and the time of travel is given by \n",
        "$$\n",
        "t = \\int_{v_{0}}^{v(t)} \\frac{m}{R(u)} du, \n",
        "$$\n",
        "where $v_{0} = v(0)$ is the intial velocity of the particle.  Now suppose that \n",
        "$$\n",
        "R(v) = -R_{\\infty}\\left(\\frac{2}{1 + e^{-v^2/v_{c}^{2}}}-1\\right).\n",
        "$$\n",
        "For a particle of mass $m=1 ~kg$ (kilograms), with $v_{0}=10 ~m/s$ (meters/second), and $v_{c} = 2 ~m/s$ and $R_{\\infty} = 3 ~kg ~m/s^{2}$, using the Trapezoid Method, find the approximate time necessary for the particle to slow to $v(t) = 5 ~ m/s$."
      ],
      "metadata": {
        "id": "z7-vux0Wm19z"
      }
    },
    {
      "cell_type": "code",
      "source": [
        "f = lambda x : x**x\n",
        "df = lambda x : x**x*(1+np.log(x))\n",
        "d2f = lambda x : x**x*(1/x+(1+np.log(x))**2)\n",
        "\n",
        "N=100\n",
        "x=np.linspace(1,2,N+1)\n",
        "\n",
        "plt.plot(x,d2f(x))\n",
        "plt.show()\n",
        "\n",
        "k2=d2f(2)"
      ],
      "metadata": {
        "id": "2-sOwasBl_ZE"
      },
      "execution_count": null,
      "outputs": []
    },
    {
      "cell_type": "code",
      "source": [
        "(k2/(12*1e-3))**(1/2) \n",
        "#N>34, err<1e-3"
      ],
      "metadata": {
        "id": "dvvtd81uuPY6"
      },
      "execution_count": null,
      "outputs": []
    },
    {
      "cell_type": "code",
      "source": [
        "exact = 2.05044623\n",
        "f = lambda x : x**x\n",
        "N=34\n",
        "\n",
        "x=np.linspace(1,2,N+1)\n",
        "\n",
        "dx=1/(N)\n",
        "y=f(x)\n",
        "yr=y[1:]\n",
        "yl=y[:-1]\n",
        "approx=(1/2)*(dx)*np.sum(yr+yl)\n",
        "\n",
        "print(approx)\n",
        "print(abs(approx-exact)<1e-3)"
      ],
      "metadata": {
        "id": "syKitP_juP01"
      },
      "execution_count": null,
      "outputs": []
    },
    {
      "cell_type": "code",
      "source": [
        "def trapz(f,a,b,N):\n",
        "  x=np.linspace(a,b,N+1) # N+1 points make N subintervals\n",
        "  y=f(x)\n",
        "  y_right = y[1:]\n",
        "  y_left = y[:-1]\n",
        "  dx=(b-a)/N\n",
        "  T=(dx/2) * np.sum(y_right+y_left)\n",
        "  return T"
      ],
      "metadata": {
        "id": "1IISWzhezwbr"
      },
      "execution_count": null,
      "outputs": []
    },
    {
      "cell_type": "markdown",
      "source": [
        "# 5주차\n"
      ],
      "metadata": {
        "id": "S-DObcJv0JJK"
      }
    },
    {
      "cell_type": "markdown",
      "source": [
        "simpson's rule\n",
        "\n",
        "```\n",
        "dx/3 * (f(x0)+4*f(x1)+f(x2))...\n",
        "i=1 ~ N/2\n",
        "0 1 2\n",
        "2 3 4\n",
        "4 5 6\n",
        "(2i-2) (2i-1) 2i\n",
        "```"
      ],
      "metadata": {
        "id": "VC7NgBsS03B4"
      }
    },
    {
      "cell_type": "code",
      "source": [
        "x=np.linspace(0,1,11)\n",
        "print(x)\n",
        "print(x[0:-1:2])\n",
        "print(x[1::2])\n",
        "print(x[2::2])"
      ],
      "metadata": {
        "id": "g_axF29z04qC"
      },
      "execution_count": null,
      "outputs": []
    },
    {
      "cell_type": "code",
      "source": [
        "def simps(f,a,b,N):\n",
        "  if N%2:\n",
        "    return\n",
        "  dx=(b-a)/N\n",
        "  x=np.linspace(a,b,N+1)\n",
        "  y=f(x)\n",
        "  return dx/3*np.sum(y[0:-1:2]+4*y[1::2]+y[2::2])\n",
        "  \n",
        "  "
      ],
      "metadata": {
        "id": "Ctdh_FUf05vF"
      },
      "execution_count": null,
      "outputs": []
    },
    {
      "cell_type": "code",
      "source": [
        "simps(lambda x : 3*x**2,0,1,50)\n",
        "#simpson's rule : 2차함수 에러없이구함\n"
      ],
      "metadata": {
        "id": "1Ar6AgQA0-pJ"
      },
      "execution_count": null,
      "outputs": []
    },
    {
      "cell_type": "markdown",
      "source": [
        "에러를 구하는법\n",
        "```\n",
        "err <= (b-a)^5 / 180N^4 * K4 \n",
        "f4(x)<=K4\n",
        "```"
      ],
      "metadata": {
        "id": "JvKG9Ngt1ayd"
      }
    },
    {
      "cell_type": "code",
      "source": [
        "def odeEuler(f,t,y0):\n",
        "  y=np.zeros(len(t))\n",
        "  y[0]=y0\n",
        "  for n in range(0,len(t)-1):\n",
        "    y[n+1]=y[n]+f(t[n],y[n])*(t[n+1]-t[n])\n",
        "  return y"
      ],
      "metadata": {
        "id": "PbJsB2Ak48Wp"
      },
      "execution_count": null,
      "outputs": []
    },
    {
      "cell_type": "code",
      "source": [
        "#example\n",
        "'''\n",
        "y'=-y\n",
        "y0=1\n",
        "h=0.25\n",
        "\n",
        "exact = e^(-t)\n",
        "\n",
        "plot [0,2]\n",
        "'''\n",
        "f=lambda t,y : -y\n",
        "t0=0;tf=2;h=0.25;N=int((tf-t0)/h);\n",
        "#tf : final N : iterations\n",
        "t=np.linspace(t0,tf,N+1)\n",
        "y0=1\n",
        "y=odeEuler(f,t,y0)\n",
        "plt.plot(t,y,'b.-')\n",
        "plt.grid(True)\n",
        "t_exact=np.linspace(t0,tf,50)\n",
        "y_exact=np.exp(-t_exact)\n",
        "plt.plot(t_exact,y_exact,'r')\n",
        "plt.show()\n",
        "\n",
        "#h : stepsize가 작아질수록 exact해짐\n",
        "#y0 : initial condition 에 따라 그래프가 달라짐"
      ],
      "metadata": {
        "id": "keyT7YBL4-kR"
      },
      "execution_count": null,
      "outputs": []
    },
    {
      "cell_type": "markdown",
      "source": [
        "# 6주차\n"
      ],
      "metadata": {
        "id": "tdcBopQ46GmK"
      }
    },
    {
      "cell_type": "markdown",
      "source": [
        "## RK4 Method\n",
        "\n",
        "Let an IVP be specified as follows:\n",
        "\n",
        "$$\\frac{dy}{dt} = f(t, y), \\quad y(t_0) = y_0.$$\n",
        "\n",
        "Then, the RK4 method is \n",
        "$$\n",
        "\\begin{align}\n",
        "y_{n+1} &= y_n + \\frac{1}{6}\\left(k_1 + 2k_2 + 2k_3 + k_4 \\right)h,\\\\\n",
        "t_{n+1} &= t_n + h \\\\\n",
        "\\end{align}\n",
        "$$\n",
        "where\n",
        "$$\n",
        "\\begin{align}\n",
        " k_1 &= \\ f(t_n, y_n), \\\\\n",
        " k_2 &= \\ f\\!\\left(t_n + \\frac{h}{2}, y_n + h\\frac{k_1}{2}\\right), \\\\ \n",
        " k_3 &= \\ f\\!\\left(t_n + \\frac{h}{2}, y_n + h\\frac{k_2}{2}\\right), \\\\\n",
        " k_4 &= \\ f\\!\\left(t_n + h, y_n + hk_3\\right).\n",
        " \\end{align}\n",
        "$$\n",
        "\n",
        "\n",
        "Here $y_{n+1}$ is the RK4 approximation of $y(t_{n+1})$, and the next value ($y_{n+1}$) is determined by the present value ($y_n$) plus the weighted average of four increments, where each increment is the product of the size of the interval, ''h'', and an estimated slope specified by function ''f'' on the right-hand side of the differential equation.\n",
        "\n",
        "In averaging the four slopes, greater weight is given to the slopes at the midpoint. If $f$ is independent of $y$, so that the differential equation is equivalent to a simple integral, then RK4 is Simpson's rule."
      ],
      "metadata": {
        "id": "vZ2AuLrm6IgS"
      }
    },
    {
      "cell_type": "markdown",
      "source": [
        "## Problem\n",
        "\n",
        "Consider $y' = y- t^2 + 1$ with $y(0) = 0.5$. The exact solution is $y = t^2 + 2t + 1 -\\frac{1}{2} e^t$.\n",
        "\n",
        "1. Write a code for the RK4 to find y(1).\n",
        "2. Let's verify the order of Heun's method experimentally by plotting the \"local truncation error\" for RK4 applied to the underlying equation. Use loglog plot to see the convergence."
      ],
      "metadata": {
        "id": "y9mp-kVW6Mkd"
      }
    },
    {
      "cell_type": "code",
      "source": [
        "import numpy as np\n",
        "import matplotlib.pyplot as plt\n",
        "\n",
        "def RK4(f,t,y0):\n",
        "  y=np.zeros(len(t))\n",
        "  y[0]=y0\n",
        "  for n in range(0,len(t)-1):\n",
        "    h=t[n+1]-t[n]\n",
        "    k1=f(t[n],y[n])\n",
        "    k2=f(t[n]+h/2,y[n]+h*k1/2)\n",
        "    k3=f(t[n]+h/2,y[n]+h*k2/2)\n",
        "    k4=f(t[n]+h,y[n]+h*k3)\n",
        "    y[n+1]=y[n]+(k1+2*k2+2*k3+k4)/6*h\n",
        "\n",
        "  return y\n",
        "\n",
        "f=lambda t,y : y - t**2 + 1\n",
        "y0=0.5\n",
        "t0=0\n",
        "tf=2\n",
        "h=0.\n",
        "N=int((tf-t0)/h)+1\n",
        "t=np.linspace(t0,tf,N+1)\n",
        "\n",
        "print(t)\n",
        "print(RK4(f,t,y0))\n",
        "\n",
        "#RK4\n",
        "plt.plot(t,RK4(f,t,y0))\n",
        "#exact\n",
        "plt.plot(t,t**2+2*t+1-(1/2)*np.exp(t))\n",
        "\n",
        "plt.grid(True)\n",
        "plt.show()\n"
      ],
      "metadata": {
        "id": "id98l8iC6OoN"
      },
      "execution_count": null,
      "outputs": []
    },
    {
      "cell_type": "code",
      "source": [
        "\n",
        "import numpy as np\n",
        "import matplotlib.pyplot as plt\n",
        "\n",
        "def odeHeun(f,t,y0):\n",
        "    y = np.zeros(len(t))\n",
        "    y[0] = y0\n",
        "    for n in range(0,len(t)-1):\n",
        "        h = t[n+1] - t[n]\n",
        "        k1 = f(t[n],y[n])\n",
        "        k2 = f(t[n+1],y[n] + k1*h)\n",
        "        y[n+1] = y[n] + (k1 + k2)/2*h\n",
        "    return y\n",
        "\n",
        "\n",
        "\n",
        "f = lambda t,y: y*np.cos(t)\n",
        "y0 = 1;\n",
        "h = [0.1,0.05,0.01,0.005,0.001]\n",
        "E = np.zeros(len(h))\n",
        "for n in range(0,len(h)):\n",
        "    y = odeHeun(f,[0,h[n]],y0)\n",
        "    y1 = y[1]\n",
        "    y1_exact = np.exp(np.sin(h[n]))\n",
        "    E[n] = np.abs(y1_exact - y1)\n",
        "    \n",
        "plt.loglog(h,E,'b.-'), plt.grid(True)\n",
        "plt.title(\"Heun's Method, $y'=y,y(0)=1$\")\n",
        "plt.xlabel(\"Step Size, $h$\"), plt.ylabel(\"Local Truncation Error, $E$\")\n",
        "plt.show()\n",
        "\n",
        "for j in range(len(h)-1):\n",
        "    print((np.log(E[j+1]) - np.log(E[j]))/(np.log(h[j+1]) - np.log(h[j])))"
      ],
      "metadata": {
        "id": "PwY78Xh66l-N"
      },
      "execution_count": null,
      "outputs": []
    },
    {
      "cell_type": "markdown",
      "source": [
        "## Polynomial Regression\n",
        "\n",
        "### Formulation\n",
        "\n",
        "The same idea works for fitting a degree $d$ polynomial model\n",
        "\n",
        "$$\n",
        "y = a_0 + a_1x + a_2x^2 + \\cdots + a_dx^d\n",
        "$$\n",
        "\n",
        "to a set of $n+1$ data points\n",
        "\n",
        "$$\n",
        "(x_0,y_0), (x_1,y_1), \\dots , (x_n,y_n)\n",
        "$$\n",
        "\n",
        "We form the matrices as before but now the Vandermonde matrix $X$ has $d+1$ columns\n",
        "\n",
        "$$\n",
        "X =\n",
        "\\begin{bmatrix}\n",
        "1 & x_0 & x_0^2 & \\cdots & x_0^d \\\\\\\n",
        "1 & x_1 & x_1^2 & \\cdots & x_1^d \\\\\\\n",
        " & \\vdots & & & \\vdots \\\\\\\n",
        "1 & x_n & x_n^2 & \\cdots & x_n^d\n",
        "\\end{bmatrix}\n",
        "\\ , \\ \\\n",
        "\\mathbf{y} =\n",
        "\\begin{bmatrix}\n",
        "y_0 \\\\\\\n",
        "y_1 \\\\\\\n",
        "\\vdots \\\\\\\n",
        "y_n\n",
        "\\end{bmatrix}\n",
        "\\ , \\ \\\n",
        "\\mathbf{a} =\n",
        "\\begin{bmatrix}\n",
        "a_0 \\\\\\\n",
        "a_1 \\\\\\\n",
        "a_2 \\\\\\\n",
        "\\vdots \\\\\\\n",
        "a_d\n",
        "\\end{bmatrix}\n",
        "$$\n",
        "\n",
        "The coefficients $\\mathbf{a} = [a_0,a_1,a_2,\\dots,a_d]^T$ which minimize the sum of squared errors $SSE$ is the unique solution of the linear system\n",
        "\n",
        "$$\n",
        "\\left( X^T X \\right) \\mathbf{a} = \\left( X^T \\right) \\mathbf{y}\n",
        "$$"
      ],
      "metadata": {
        "id": "r8D6rOeU7B8S"
      }
    },
    {
      "cell_type": "markdown",
      "source": [
        "Let's build some fake data using a quadratic model $y = a_0 + a_1x + a_2x^2 + a_3x^3 + \\epsilon$ and use linear regression to retrieve the coefficients $a_0$, $a_1$ and $a_2$."
      ],
      "metadata": {
        "id": "mw3Ko_T27F6_"
      }
    },
    {
      "cell_type": "code",
      "source": [
        "a0 = 1\n",
        "a1 = -3\n",
        "a2 = -2\n",
        "a3 = 1\n",
        "N = 1000\n",
        "x = 10*np.random.rand(N) - 5 # Random numbers in the interval (-5,5)\n",
        "noise = 4*np.random.randn(N)\n",
        "y = a0 + a1*x + a2*x**2 + a3*x**3 + noise\n",
        "#plt.plot(x,y,'r',linewidth=0.1)\n",
        "plt.scatter(x,y,alpha=0.5,lw=0);\n",
        "\n",
        "plt.show()\n",
        "print(x[:10],y[:10])"
      ],
      "metadata": {
        "id": "Cf5TKoGP7Cz1"
      },
      "execution_count": null,
      "outputs": []
    },
    {
      "cell_type": "code",
      "source": [
        "X=np.column_stack([np.ones(N),x,x**2,x**3])\n",
        "a=la.solve(X.T @ X, X.T @ y)\n",
        "print(a)"
      ],
      "metadata": {
        "id": "EVOd5mTe7JHr"
      },
      "execution_count": null,
      "outputs": []
    },
    {
      "cell_type": "code",
      "source": [
        "xs=np.linspace(-5,5,100)\n",
        "ys=a[0]+a[1]*xs+a[2]*xs**2+a[3]*xs**3\n",
        "plt.plot(xs,ys,'r')\n",
        "plt.show()"
      ],
      "metadata": {
        "id": "n7Okz0jn7KE3"
      },
      "execution_count": null,
      "outputs": []
    },
    {
      "cell_type": "markdown",
      "source": [
        "# HW"
      ],
      "metadata": {
        "id": "LhqTECin0VWP"
      }
    },
    {
      "cell_type": "code",
      "source": [
        "import math\n",
        "\n",
        "def cubicroots(p):\n",
        "  [d,c,b,a]=p\n",
        "  D=b**2*c**2-4*a*c**3-4*b**3*d-27*a**2*d**2+18*a*b*c*d\n",
        "  if D>0:\n",
        "    return True\n",
        "  return False\n",
        "\n",
        "'''test\n",
        "print(cubicroots([0,0,0,1])) #x^3=0 D=0\n",
        "print(cubicroots([0,-1,0,1])) #x^3-x=0 D>0\n",
        "print(cubicroots([-1,0,0,1])) #x^3-1=0 D<0\n",
        "'''"
      ],
      "metadata": {
        "id": "KEq4UN-E0ZBp"
      },
      "execution_count": null,
      "outputs": []
    },
    {
      "cell_type": "code",
      "source": [
        "import math\n",
        "\n",
        "def logintegral(c,N):\n",
        "  delta_x=(c-1)/N\n",
        "  x=[1+k*delta_x for k in range(0,N+1)]\n",
        "  terms=[(math.log(x[k])/(math.log(x[k])+1)**2)*delta_x for k in range(1,N+1)]\n",
        "  return sum(terms)\n",
        "\n",
        "'''test\n",
        "logintegral(math.exp(1),10000)\n",
        "logintegral(math.exp(1),1000)\n",
        "print(math.exp(1)/2 - 1)\n",
        "'''"
      ],
      "metadata": {
        "id": "a4ZpFy4v0bU8"
      },
      "execution_count": null,
      "outputs": []
    },
    {
      "cell_type": "code",
      "source": [
        "import numpy as np\n",
        "import matplotlib.pyplot as plt\n",
        "\n",
        "f=lambda x : x**3-x**2-1\n",
        "\n",
        "def secant(a,b,N):\n",
        "  if f(a)*f(b)>=0:\n",
        "    print(\"secant method fails\")\n",
        "    return\n",
        "  a_n=a\n",
        "  b_n=b\n",
        "  for n in range(1,N+1):\n",
        "    m_n=a_n-f(a_n)*(b_n-a_n)/(f(b_n)-f(a_n))\n",
        "    f_m_n=f(m_n)\n",
        "    if f(a_n)*f_m_n<0:\n",
        "      a_n=a_n\n",
        "      b_n=m_n\n",
        "    elif f(b_n)*f_m_n<0:\n",
        "      a_n=m_n\n",
        "      b_n=b_n \n",
        "    elif f_m_n==0:\n",
        "      print(\"found exact solution\")\n",
        "      return m_n\n",
        "    else:\n",
        "      print(\"secant method fails\")\n",
        "      return\n",
        "  return a_n-f(a_n)*(b_n-a_n)/(f(b_n)-f(a_n))\n",
        "\n",
        "approx=secant(1,2,25)\n",
        "exact=1.4655712318767682\n",
        "\n",
        "#print(abs(approx-exact)<1e-10) \n",
        "print('approximation : ',approx)"
      ],
      "metadata": {
        "id": "N58LqNnT5NP6"
      },
      "execution_count": null,
      "outputs": []
    },
    {
      "cell_type": "code",
      "source": [
        "import math\n",
        "import numpy as np\n",
        "import matplotlib.pyplot as plt\n",
        "\n",
        "exact=0.891489668563799\n",
        "f=lambda x : np.sin(np.exp(x))\n",
        "df=lambda x : np.cos(np.exp(x))*np.exp(x)\n",
        "d2f=lambda x : np.cos(np.exp(x))*np.exp(x)-np.sin(np.exp(x))*np.exp(2*x)\n",
        "\n",
        "def I(x0,a,b):\n",
        "  approx=f(x0)*(b-a)+1/2*df(x0)*((b-x0)**2-(a-x0)**2)+1/6*d2f(x0)*((b-x0)**3-(a-x0)**3)\n",
        "  return approx\n",
        "\n",
        "approx=I(0,0,np.pi/3)\n",
        "print('a)')\n",
        "print('approximation : ',approx)\n",
        "print('error         : ',abs(approx-exact))\n",
        "\n",
        "approx=I(np.pi/6,0,np.pi/3)\n",
        "print('b)')\n",
        "print('approximation : ',approx)\n",
        "print('error         : ',abs(approx-exact))\n",
        "\n",
        "print('c)')\n",
        "approx=I(0,0,np.pi/6)+I(np.pi/6,np.pi/6,np.pi/3)\n",
        "print('approximation : ',approx)\n",
        "print('error         : ',abs(approx-exact))"
      ],
      "metadata": {
        "id": "CO_GGuTM5N7F"
      },
      "execution_count": null,
      "outputs": []
    },
    {
      "cell_type": "code",
      "source": [
        "import numpy as np\n",
        "import matplotlib.pyplot as plt\n",
        "\n",
        "def simps(f,a,b,N):\n",
        "  if N%2:\n",
        "    return\n",
        "  dx=(b-a)/N\n",
        "  x=np.linspace(a,b,N+1)\n",
        "  y=f(x)\n",
        "  return dx/3*np.sum(y[0:-1:2]+4*y[1::2]+y[2::2])\n",
        "\n",
        "f=lambda x : np.log(1+x**2)\n",
        "df4=lambda x : -12*(x**4-6*x**2+1)/(1+x**2)**4\n",
        "\n",
        "#abs(df4) <= 12 for all x in [0,1]\n",
        "K4=12\n",
        "\n",
        "#find N\n",
        "#K4 * 1/(180*N**4) <= 1e-8\n",
        "#(K4*1e8/180)**(1/4) <= N\n",
        "N=int((12*1e8/180)**(1/4))+1\n",
        "#N must be even\n",
        "N=N+1 if N%2 else N \n",
        "print(\" (i) Theoretically smallest value N :\",N)\n",
        "\n",
        "exact=-2+np.pi/2+np.log(2)\n",
        "\n",
        "N=2\n",
        "while(1):\n",
        "  if not N%2 and abs(exact-simps(f,0,1,N))<1e-8:\n",
        "    #N satsifies error <= 10^(-8) \n",
        "    break\n",
        "  N+=1\n",
        "\n",
        "print(\"(ii) Smallest value N such that ERROR <= 10^(-8):\",N)"
      ],
      "metadata": {
        "id": "74zrBYNv8Cir"
      },
      "execution_count": null,
      "outputs": []
    },
    {
      "cell_type": "code",
      "source": [
        "import numpy as np\n",
        "import matplotlib.pyplot as plt\n",
        "\n",
        "def odeMid(f,t,y0):\n",
        "  y=np.zeros(len(t))\n",
        "  y[0]=y0\n",
        "  for n in range(0,len(t)-1):\n",
        "    h=t[n+1]-t[n]\n",
        "    k1=f(t[n],y[n])\n",
        "    k2=f(t[n]+h/2,y[n]+k1*h/2)\n",
        "    y[n+1]=y[n]+k2*h\n",
        "  return y\n",
        "\n",
        "f = lambda t,y : y*np.cos(t)\n",
        "t0=0;tf=2*np.pi;h=0.2;N=int((tf-t0)/h);\n",
        "y0=1\n",
        "t=np.linspace(t0,tf,N+1)\n",
        "y=odeMid(f,t,y0)\n",
        "plt.plot(t,y,'b.-')\n",
        "\n",
        "t_exact=np.linspace(t0,tf,50)\n",
        "y_exact=np.exp(np.sin(t_exact))\n",
        "plt.plot(t_exact,y_exact,'r')\n",
        "\n",
        "plt.title(\"$y'=ycos(t),y(0)=1$\")\n",
        "plt.legend(['mid-point','exact'])\n",
        "plt.grid(True)\n",
        "plt.show()"
      ],
      "metadata": {
        "id": "Js2VGlNo8GVn"
      },
      "execution_count": null,
      "outputs": []
    }
  ]
}